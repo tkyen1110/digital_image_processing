{
 "cells": [
  {
   "cell_type": "code",
   "execution_count": 1,
   "id": "worldwide-victorian",
   "metadata": {},
   "outputs": [
    {
     "data": {
      "image/png": "[encoded data removed]",
      "text/plain": [
       "<Figure size 864x1440 with 2 Axes>"
      ]
     },
     "metadata": {
      "needs_background": "light"
     },
     "output_type": "display_data"
    }
   ],
   "source": [
    "import cv2\n",
    "import numpy as np\n",
    "import matplotlib.pyplot as plt\n",
    "\n",
    "# Create the input image\n",
    "input_image = np.array((\n",
    "    [0, 0, 0, 0, 0, 0, 0, 0],\n",
    "    [0, 255, 255, 255, 0, 0, 0, 255],\n",
    "    [0, 0, 255, 255, 0, 0, 0, 0],\n",
    "    [0, 0, 255, 255, 0, 0, 0, 0],\n",
    "    [0, 0, 0, 0, 0, 0, 0, 0],\n",
    "    [0, 255, 255, 0, 0, 255, 255, 255],\n",
    "    [0,255, 0, 0, 0, 0, 255, 0],\n",
    "    [0, 255, 0, 0, 0, 0, 255, 0]), dtype=\"uint8\")\n",
    " \n",
    "# Construct the structuring element\n",
    "kernel = np.array((\n",
    "        [1, 1, 1],\n",
    "        [0, 1, -1],\n",
    "        [0, 1, -1]), dtype=\"int\")\n",
    " \n",
    "# Apply hit-or-miss transformation\n",
    "output_image = cv2.morphologyEx(input_image, cv2.MORPH_HITMISS, kernel)\n",
    "\n",
    "plt.subplot(1,2,1)\n",
    "plt.title('input_image')\n",
    "plt.imshow(input_image, cmap ='gray')\n",
    "\n",
    "plt.subplot(1,2,2)\n",
    "plt.title(\"output_image\")\n",
    "plt.imshow(output_image, cmap ='gray')\n",
    "\n",
    "plt.gcf().set_size_inches(12, 20)\n",
    "plt.show()\n"
   ]
  },
  {
   "cell_type": "code",
   "execution_count": null,
   "id": "facial-contact",
   "metadata": {},
   "outputs": [],
   "source": []
  }
 ],
 "metadata": {
  "kernelspec": {
   "display_name": "Python 3",
   "language": "python",
   "name": "python3"
  },
  "language_info": {
   "codemirror_mode": {
    "name": "ipython",
    "version": 3
   },
   "file_extension": ".py",
   "mimetype": "text/x-python",
   "name": "python",
   "nbconvert_exporter": "python",
   "pygments_lexer": "ipython3",
   "version": "3.6.9"
  }
 },
 "nbformat": 4,
 "nbformat_minor": 5
}
