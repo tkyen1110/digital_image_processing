{
 "cells": [
  {
   "cell_type": "code",
   "execution_count": 1,
   "id": "double-seeking",
   "metadata": {},
   "outputs": [
    {
     "name": "stdout",
     "output_type": "stream",
     "text": [
      "[[0.45825757]] 0.458257569495584\n"
     ]
    }
   ],
   "source": [
    "import cv2\n",
    "import numpy as np\n",
    "\n",
    "img = np.array([[0, 0, 0, 0, 0],\n",
    "                [0, 0, 0, 0, 0],\n",
    "                [0, 1, 1, 1, 0],\n",
    "                [0, 1, 1, 1, 0],\n",
    "                [0, 1, 1, 1, 0],\n",
    "                [0, 0, 0, 0, 0]], dtype='uint8')\n",
    "\n",
    "# Calculate the standard deviation\n",
    "# Here I'm taking the full image, you can take any rectangular region\n",
    "# Method-1: using cv2.meanStdDev()\n",
    "mean, std_1 = cv2.meanStdDev(img, mask=None)\n",
    "\n",
    "# Method-2: using the formulae 1/n(S2 - (S1**2)/n)\n",
    "sum_1, sqsum_2 = cv2.integral2(img)\n",
    "n = img.size\n",
    "# sum of the region can be easily found out using the integral image as\n",
    "#  Sum = Bottom right + top left - top right - bottom left\n",
    "s1 = sum_1[-1,-1]\n",
    "s2 = sqsum_2[-1,-1]\n",
    "std_2 = np.sqrt((s2 - (s1**2)/n)/n)\n",
    "print(std_1, std_2)  # [[0.45825757]] 0.4582575694"
   ]
  },
  {
   "cell_type": "code",
   "execution_count": null,
   "id": "immediate-mortgage",
   "metadata": {},
   "outputs": [],
   "source": []
  }
 ],
 "metadata": {
  "kernelspec": {
   "display_name": "Python 3",
   "language": "python",
   "name": "python3"
  },
  "language_info": {
   "codemirror_mode": {
    "name": "ipython",
    "version": 3
   },
   "file_extension": ".py",
   "mimetype": "text/x-python",
   "name": "python",
   "nbconvert_exporter": "python",
   "pygments_lexer": "ipython3",
   "version": "3.6.9"
  }
 },
 "nbformat": 4,
 "nbformat_minor": 5
}
